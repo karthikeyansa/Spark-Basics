{
 "cells": [
  {
   "cell_type": "code",
   "execution_count": 1,
   "id": "unusual-border",
   "metadata": {},
   "outputs": [],
   "source": [
    "import findspark"
   ]
  },
  {
   "cell_type": "code",
   "execution_count": 3,
   "id": "twelve-syntax",
   "metadata": {},
   "outputs": [],
   "source": [
    "findspark.init('/home/ky/spark-3.0.1-bin-hadoop3.2')"
   ]
  },
  {
   "cell_type": "markdown",
   "id": "second-diana",
   "metadata": {},
   "source": [
    "# Just in case to find pysparklib"
   ]
  },
  {
   "cell_type": "code",
   "execution_count": 4,
   "id": "dimensional-liver",
   "metadata": {},
   "outputs": [],
   "source": [
    "from pyspark.sql import SparkSession"
   ]
  },
  {
   "cell_type": "code",
   "execution_count": 5,
   "id": "conceptual-providence",
   "metadata": {},
   "outputs": [],
   "source": [
    "spark = SparkSession.builder.appName('Stocks').getOrCreate()"
   ]
  },
  {
   "cell_type": "code",
   "execution_count": 45,
   "id": "endless-nomination",
   "metadata": {},
   "outputs": [],
   "source": [
    "df = spark.read.csv('dataframe/WMT.csv', header= True, inferSchema= True)"
   ]
  },
  {
   "cell_type": "code",
   "execution_count": 46,
   "id": "decimal-musician",
   "metadata": {},
   "outputs": [
    {
     "name": "stdout",
     "output_type": "stream",
     "text": [
      "root\n",
      " |-- Date: string (nullable = true)\n",
      " |-- Open: double (nullable = true)\n",
      " |-- High: double (nullable = true)\n",
      " |-- Low: double (nullable = true)\n",
      " |-- Close: double (nullable = true)\n",
      " |-- Adj Close: double (nullable = true)\n",
      " |-- Volume: integer (nullable = true)\n",
      "\n"
     ]
    }
   ],
   "source": [
    "df.printSchema()"
   ]
  },
  {
   "cell_type": "code",
   "execution_count": 47,
   "id": "polar-asian",
   "metadata": {},
   "outputs": [
    {
     "name": "stdout",
     "output_type": "stream",
     "text": [
      "+----------+----------+----------+----------+----------+----------+--------+\n",
      "|      Date|      Open|      High|       Low|     Close| Adj Close|  Volume|\n",
      "+----------+----------+----------+----------+----------+----------+--------+\n",
      "|2020-02-14|117.669998|    118.57|117.160004|117.889999| 115.95433| 8130600|\n",
      "|2020-02-18|118.470001|119.949997|117.360001|119.629997|117.665764|11513200|\n",
      "|2020-02-19|     119.5|119.940002|    117.68|    117.68| 115.74778| 7187800|\n",
      "|2020-02-20|117.209999|118.110001|116.860001|117.690002|115.757614| 5022900|\n",
      "|2020-02-21|117.440002|    118.75|117.309998|118.580002|116.633011| 6242100|\n",
      "|2020-02-24|117.459999|118.459999|115.949997|    116.32| 114.41011| 6616000|\n",
      "|2020-02-25|116.349998|    117.07|114.050003|114.389999|112.511795| 7764300|\n",
      "|2020-02-26|114.699997|115.169998|113.650002|113.779999|111.911819| 6673300|\n",
      "|2020-02-27|112.559998|    114.07|110.349998|110.400002|108.587311| 9492300|\n",
      "|2020-02-28|107.690002|108.519997|104.370003|    107.68|105.911972|17504100|\n",
      "|2020-03-02|107.599998|116.400002|107.290001|115.879997|113.977333|17074200|\n",
      "|2020-03-03|116.080002|117.529999|112.339996|112.910004|111.056107|11113600|\n",
      "|2020-03-04|114.239998|116.839996|113.470001|116.769997|114.852722| 8208400|\n",
      "|2020-03-05|114.400002|    117.25|113.910004|115.919998|114.016678| 8546100|\n",
      "|2020-03-06|113.870003|117.910004|113.010002|117.230003|115.305176| 9803700|\n",
      "|2020-03-09|    113.82|120.629997|112.730003|117.160004| 115.23632|19747800|\n",
      "|2020-03-10|118.099998|    120.68|114.919998|119.790001|117.823135|12599100|\n",
      "|2020-03-11|117.510002|119.029999|112.800003|    114.43| 112.55114|10540000|\n",
      "|2020-03-12|106.019997|111.489998|102.980003|104.050003|102.341583|18774400|\n",
      "|2020-03-13|108.239998|114.589996|103.879997|114.099998|112.226555|14320700|\n",
      "+----------+----------+----------+----------+----------+----------+--------+\n",
      "only showing top 20 rows\n",
      "\n"
     ]
    }
   ],
   "source": [
    "df.show()"
   ]
  },
  {
   "cell_type": "markdown",
   "id": "reliable-russian",
   "metadata": {},
   "source": [
    "## To get Colums names"
   ]
  },
  {
   "cell_type": "code",
   "execution_count": 48,
   "id": "exceptional-palmer",
   "metadata": {},
   "outputs": [
    {
     "data": {
      "text/plain": [
       "['Date', 'Open', 'High', 'Low', 'Close', 'Adj Close', 'Volume']"
      ]
     },
     "execution_count": 48,
     "metadata": {},
     "output_type": "execute_result"
    }
   ],
   "source": [
    "df.columns"
   ]
  },
  {
   "cell_type": "markdown",
   "id": "fewer-china",
   "metadata": {},
   "source": [
    "## To get first 5 rows"
   ]
  },
  {
   "cell_type": "code",
   "execution_count": 49,
   "id": "failing-mainland",
   "metadata": {},
   "outputs": [
    {
     "data": {
      "text/plain": [
       "[Row(Date='2020-02-14', Open=117.669998, High=118.57, Low=117.160004, Close=117.889999, Adj Close=115.95433, Volume=8130600),\n",
       " Row(Date='2020-02-18', Open=118.470001, High=119.949997, Low=117.360001, Close=119.629997, Adj Close=117.665764, Volume=11513200),\n",
       " Row(Date='2020-02-19', Open=119.5, High=119.940002, Low=117.68, Close=117.68, Adj Close=115.74778, Volume=7187800),\n",
       " Row(Date='2020-02-20', Open=117.209999, High=118.110001, Low=116.860001, Close=117.690002, Adj Close=115.757614, Volume=5022900),\n",
       " Row(Date='2020-02-21', Open=117.440002, High=118.75, Low=117.309998, Close=118.580002, Adj Close=116.633011, Volume=6242100)]"
      ]
     },
     "execution_count": 49,
     "metadata": {},
     "output_type": "execute_result"
    }
   ],
   "source": [
    "df.limit(5).collect()"
   ]
  },
  {
   "cell_type": "code",
   "execution_count": 50,
   "id": "cellular-strip",
   "metadata": {},
   "outputs": [
    {
     "name": "stdout",
     "output_type": "stream",
     "text": [
      "+-------+----------+-----------------+------------------+------------------+------------------+------------------+-----------------+\n",
      "|summary|      Date|             Open|              High|               Low|             Close|         Adj Close|           Volume|\n",
      "+-------+----------+-----------------+------------------+------------------+------------------+------------------+-----------------+\n",
      "|  count|       252|              252|               252|               252|               252|               252|              252|\n",
      "|   mean|      null|     132.89829375|134.42234131349198|131.47805582936505|132.96301598015867| 132.1596568888889|9244117.857142856|\n",
      "| stddev|      null|12.07134104498652|11.633165123345597|12.278032457203182| 11.85547736640773|12.319401872389507| 4970391.33355953|\n",
      "|    min|2020-02-14|       105.199997|        108.519997|             102.0|        104.050003|        102.341583|          3018200|\n",
      "|    max|2021-02-12|       153.600006|        153.660004|        151.660004|        152.789993|        152.233536|         39672900|\n",
      "+-------+----------+-----------------+------------------+------------------+------------------+------------------+-----------------+\n",
      "\n"
     ]
    }
   ],
   "source": [
    "df.describe().show()"
   ]
  },
  {
   "cell_type": "code",
   "execution_count": 51,
   "id": "efficient-separation",
   "metadata": {},
   "outputs": [],
   "source": [
    "from pyspark.sql.functions import format_number"
   ]
  },
  {
   "cell_type": "code",
   "execution_count": 52,
   "id": "surgical-wireless",
   "metadata": {},
   "outputs": [],
   "source": [
    "## To get two decimal val from mean, stddev(standard deviation)"
   ]
  },
  {
   "cell_type": "code",
   "execution_count": 53,
   "id": "physical-hollywood",
   "metadata": {},
   "outputs": [],
   "source": [
    "result = df.describe()"
   ]
  },
  {
   "cell_type": "code",
   "execution_count": 55,
   "id": "scientific-despite",
   "metadata": {},
   "outputs": [
    {
     "name": "stdout",
     "output_type": "stream",
     "text": [
      "+-------+------+\n",
      "|summary|  Open|\n",
      "+-------+------+\n",
      "|  count|252.00|\n",
      "|   mean|132.90|\n",
      "| stddev| 12.07|\n",
      "|    min|105.20|\n",
      "|    max|153.60|\n",
      "+-------+------+\n",
      "\n"
     ]
    }
   ],
   "source": [
    "result.select(result['summary'],format_number(result['Open'].cast('float'), 2).alias('Open')).show()"
   ]
  },
  {
   "cell_type": "code",
   "execution_count": 60,
   "id": "legal-brisbane",
   "metadata": {},
   "outputs": [],
   "source": [
    "# a result to get HV ratio means result of high and volume ratio "
   ]
  },
  {
   "cell_type": "code",
   "execution_count": 62,
   "id": "moral-telling",
   "metadata": {},
   "outputs": [],
   "source": [
    "df2 = df.withColumn('HV Ratio', df['High']/df['Volume'])"
   ]
  },
  {
   "cell_type": "code",
   "execution_count": 74,
   "id": "south-screen",
   "metadata": {},
   "outputs": [
    {
     "name": "stdout",
     "output_type": "stream",
     "text": [
      "+--------------------+\n",
      "|            HV Ratio|\n",
      "+--------------------+\n",
      "|1.458317959314195...|\n",
      "|1.041847592328805...|\n",
      "|1.668660814157322E-5|\n",
      "|2.351430468454478...|\n",
      "|1.902404639464283E-5|\n",
      "|1.790507844619105E-5|\n",
      "|1.507798513710186...|\n",
      "|1.725832766397434...|\n",
      "|1.201710860381572...|\n",
      "|6.199690186870505E-6|\n",
      "|6.817303416851156E-6|\n",
      "|1.057533103584797...|\n",
      "|1.423419862579796...|\n",
      "|1.371970840500345...|\n",
      "|1.202709222028418E-5|\n",
      "|6.108528393036186E-6|\n",
      "| 9.57846195363161E-6|\n",
      "|1.129316878557874...|\n",
      "|5.938405381796488...|\n",
      "|8.001703548010921E-6|\n",
      "+--------------------+\n",
      "only showing top 20 rows\n",
      "\n"
     ]
    }
   ],
   "source": [
    "df2.select(df2['HV Ratio']).show()"
   ]
  },
  {
   "cell_type": "code",
   "execution_count": 75,
   "id": "dental-interview",
   "metadata": {},
   "outputs": [],
   "source": [
    "# get date with peak high in price"
   ]
  },
  {
   "cell_type": "code",
   "execution_count": 78,
   "id": "indonesian-architect",
   "metadata": {},
   "outputs": [
    {
     "data": {
      "text/plain": [
       "'2020-12-01'"
      ]
     },
     "execution_count": 78,
     "metadata": {},
     "output_type": "execute_result"
    }
   ],
   "source": [
    "df.orderBy(df['High'].desc()).head(1)[0][0]"
   ]
  },
  {
   "cell_type": "code",
   "execution_count": 96,
   "id": "controlling-prayer",
   "metadata": {},
   "outputs": [],
   "source": [
    "from pyspark.sql.functions import mean, max, min"
   ]
  },
  {
   "cell_type": "code",
   "execution_count": 97,
   "id": "altered-ordinary",
   "metadata": {},
   "outputs": [
    {
     "name": "stdout",
     "output_type": "stream",
     "text": [
      "+------------------+\n",
      "|        avg(Close)|\n",
      "+------------------+\n",
      "|132.96301598015867|\n",
      "+------------------+\n",
      "\n"
     ]
    }
   ],
   "source": [
    "df.select(mean('Close')).show()"
   ]
  },
  {
   "cell_type": "code",
   "execution_count": 99,
   "id": "biblical-survey",
   "metadata": {},
   "outputs": [
    {
     "name": "stdout",
     "output_type": "stream",
     "text": [
      "+----------+----------+\n",
      "|min(Close)|max(Close)|\n",
      "+----------+----------+\n",
      "|104.050003|152.789993|\n",
      "+----------+----------+\n",
      "\n"
     ]
    }
   ],
   "source": [
    "df.select(min('Close'), max('Close')).show()"
   ]
  },
  {
   "cell_type": "code",
   "execution_count": 103,
   "id": "material-oxygen",
   "metadata": {},
   "outputs": [],
   "source": [
    "## days was the close lower than 200 using filter"
   ]
  },
  {
   "cell_type": "code",
   "execution_count": 112,
   "id": "directed-premium",
   "metadata": {},
   "outputs": [
    {
     "data": {
      "text/plain": [
       "252"
      ]
     },
     "execution_count": 112,
     "metadata": {},
     "output_type": "execute_result"
    }
   ],
   "source": [
    "df.filter('Close < 200').count()"
   ]
  },
  {
   "cell_type": "code",
   "execution_count": 114,
   "id": "sized-bruce",
   "metadata": {},
   "outputs": [
    {
     "data": {
      "text/plain": [
       "252"
      ]
     },
     "execution_count": 114,
     "metadata": {},
     "output_type": "execute_result"
    }
   ],
   "source": [
    "df.select(df['Close'] < 200).count()"
   ]
  },
  {
   "cell_type": "code",
   "execution_count": 116,
   "id": "familiar-research",
   "metadata": {},
   "outputs": [
    {
     "data": {
      "text/plain": [
       "1.0"
      ]
     },
     "execution_count": 116,
     "metadata": {},
     "output_type": "execute_result"
    }
   ],
   "source": [
    "df.select(df['High'] > 80).count()/df.count()"
   ]
  },
  {
   "cell_type": "code",
   "execution_count": 151,
   "id": "technical-guest",
   "metadata": {},
   "outputs": [],
   "source": [
    "from pyspark.sql.functions import corr, year, avg, month"
   ]
  },
  {
   "cell_type": "code",
   "execution_count": 152,
   "id": "essential-printer",
   "metadata": {},
   "outputs": [
    {
     "name": "stdout",
     "output_type": "stream",
     "text": [
      "+--------------------+\n",
      "|  corr(High, Volume)|\n",
      "+--------------------+\n",
      "|-0.19335095966742472|\n",
      "+--------------------+\n",
      "\n"
     ]
    }
   ],
   "source": [
    "df.select(corr('High', 'Volume')).show()"
   ]
  },
  {
   "cell_type": "code",
   "execution_count": 153,
   "id": "imperial-outside",
   "metadata": {},
   "outputs": [],
   "source": [
    "yeardf = df.withColumn('Year', year(df['Date']))"
   ]
  },
  {
   "cell_type": "code",
   "execution_count": 164,
   "id": "metallic-portal",
   "metadata": {},
   "outputs": [
    {
     "name": "stdout",
     "output_type": "stream",
     "text": [
      "+----+----------+\n",
      "|Year| max(High)|\n",
      "+----+----------+\n",
      "|2020|153.660004|\n",
      "|2021|149.929993|\n",
      "+----+----------+\n",
      "\n"
     ]
    }
   ],
   "source": [
    "yeardf.groupBy('Year').max('High').show()"
   ]
  },
  {
   "cell_type": "code",
   "execution_count": 169,
   "id": "developmental-proposition",
   "metadata": {},
   "outputs": [],
   "source": [
    "monthdf = df.withColumn('Month', month(df['Date']))"
   ]
  },
  {
   "cell_type": "code",
   "execution_count": 172,
   "id": "thirty-classification",
   "metadata": {},
   "outputs": [
    {
     "name": "stdout",
     "output_type": "stream",
     "text": [
      "+-----+------------------+\n",
      "|Month|        avg(Close)|\n",
      "+-----+------------------+\n",
      "|   12|146.57681759090912|\n",
      "|    1|145.75842042105262|\n",
      "|    6|120.50636331818183|\n",
      "|    3|114.41727345454545|\n",
      "|    5|124.07350000000001|\n",
      "|    9|138.90714223809525|\n",
      "|    4|125.78809571428572|\n",
      "|    8|132.46905080952382|\n",
      "|    7|128.98181804545453|\n",
      "|   10|142.59499986363633|\n",
      "|   11|148.09999845000002|\n",
      "|    2|       129.2825008|\n",
      "+-----+------------------+\n",
      "\n"
     ]
    }
   ],
   "source": [
    "monthdf.groupBy('Month').avg('Close').show()"
   ]
  },
  {
   "cell_type": "code",
   "execution_count": null,
   "id": "aware-arthur",
   "metadata": {},
   "outputs": [],
   "source": []
  }
 ],
 "metadata": {
  "kernelspec": {
   "display_name": "Python 3",
   "language": "python",
   "name": "python3"
  },
  "language_info": {
   "codemirror_mode": {
    "name": "ipython",
    "version": 3
   },
   "file_extension": ".py",
   "mimetype": "text/x-python",
   "name": "python",
   "nbconvert_exporter": "python",
   "pygments_lexer": "ipython3",
   "version": "3.8.5"
  }
 },
 "nbformat": 4,
 "nbformat_minor": 5
}
